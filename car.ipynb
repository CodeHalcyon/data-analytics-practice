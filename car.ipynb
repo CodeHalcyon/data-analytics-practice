{
 "cells": [
  {
   "cell_type": "code",
   "execution_count": null,
   "id": "1b1ae9de",
   "metadata": {},
   "outputs": [],
   "source": [
    "import numpy as np\n",
    "import pandas as pd"
   ]
  },
  {
   "cell_type": "code",
   "execution_count": null,
   "id": "6a021bff",
   "metadata": {},
   "outputs": [],
   "source": [
    "df = pd.read_csv(\"car.csv\")\n",
    "df.info()"
   ]
  },
  {
   "cell_type": "code",
   "execution_count": null,
   "id": "56d16435",
   "metadata": {},
   "outputs": [],
   "source": [
    "cat_col = [d for d in df.columns if df[d].dtype == 'object']\n",
    "num_col = [d for d in df.columns if df[d].dtype != 'object']\n",
    "print(cat_col)\n",
    "print(num_col)"
   ]
  },
  {
   "cell_type": "code",
   "execution_count": null,
   "id": "c0b79c83",
   "metadata": {},
   "outputs": [],
   "source": [
    "df[cat_col].nunique()"
   ]
  },
  {
   "cell_type": "code",
   "execution_count": null,
   "id": "062cc5ae",
   "metadata": {},
   "outputs": [],
   "source": [
    "df.PostedDate.unique()"
   ]
  },
  {
   "cell_type": "code",
   "execution_count": null,
   "id": "9f7f78ba",
   "metadata": {},
   "outputs": [],
   "source": [
    "df2 = df.drop(columns=[\"PostedDate\",\"AdditionInfo\"])\n",
    "round((df2.isnull().sum()/df2.shape[0])*100,2)\n"
   ]
  },
  {
   "cell_type": "code",
   "execution_count": null,
   "id": "1b65044d",
   "metadata": {},
   "outputs": [],
   "source": [
    "import seaborn as sb\n",
    "import matplotlib.pyplot as plt\n",
    "categorical_cols = ['Brand', 'Model', 'Transmission', 'Owner', 'FuelType']\n",
    "categorical_cols\n"
   ]
  },
  {
   "cell_type": "code",
   "execution_count": null,
   "id": "1473bdca",
   "metadata": {},
   "outputs": [],
   "source": [
    "import seaborn as sns\n",
    "import matplotlib.pyplot as plt\n",
    "\n",
    "categorical_cols = ['Brand', 'model', 'Transmission', 'Owner', 'FuelType']\n",
    "\n",
    "for col in categorical_cols:\n",
    "    plt.figure(figsize=(6,3))\n",
    "    top_n = 10\n",
    "    value_counts = df2[col].value_counts().nlargest(top_n)\n",
    "    filtered_df = df2[df2[col].isin(value_counts.index)]\n",
    "\n",
    "    # --- Seaborn Bar Plot ---\n",
    "    sns.countplot(data=filtered_df, x=col, order=value_counts.index, palette='Set2')\n",
    "    plt.title(f'{col} - Top {top_n} Categories')\n",
    "    plt.xticks(rotation=45, ha='right')\n",
    "    plt.xlabel(col)\n",
    "    plt.ylabel(\"Count\")\n",
    "    plt.tight_layout()\n",
    "    plt.show()\n",
    "\n",
    "    # --- Pie Chart (only if few categories) ---\n",
    "    if df2[col].nunique() <= 6:\n",
    "        plt.figure(figsize=(6, 3))\n",
    "        values = df2[col].value_counts()\n",
    "        plt.pie(values, labels=values.index, autopct='%1.1f%%', startangle=140, shadow=True, colors=sns.color_palette('Set2'))\n",
    "        plt.title(f'{col} - Pie Chart')\n",
    "        plt.axis('equal')\n",
    "        plt.tight_layout()\n",
    "        plt.show()\n"
   ]
  },
  {
   "cell_type": "code",
   "execution_count": null,
   "id": "a5a00c29",
   "metadata": {},
   "outputs": [],
   "source": []
  }
 ],
 "metadata": {
  "kernelspec": {
   "display_name": "venv",
   "language": "python",
   "name": "python3"
  },
  "language_info": {
   "codemirror_mode": {
    "name": "ipython",
    "version": 3
   },
   "file_extension": ".py",
   "mimetype": "text/x-python",
   "name": "python",
   "nbconvert_exporter": "python",
   "pygments_lexer": "ipython3",
   "version": "3.13.1"
  }
 },
 "nbformat": 4,
 "nbformat_minor": 5
}
