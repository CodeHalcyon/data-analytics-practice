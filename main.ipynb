{
 "cells": [
  {
   "cell_type": "code",
   "execution_count": null,
   "id": "f0fde6d6",
   "metadata": {},
   "outputs": [],
   "source": [
    "import numpy as np\n",
    "import pandas as pd"
   ]
  },
  {
   "cell_type": "code",
   "execution_count": null,
   "id": "241b7b7d",
   "metadata": {},
   "outputs": [],
   "source": [
    "df = pd.read_csv(\"Titanic-Dataset.csv\")\n",
    "df"
   ]
  },
  {
   "cell_type": "code",
   "execution_count": null,
   "id": "aeac5634",
   "metadata": {},
   "outputs": [],
   "source": [
    "cat_data = [d for d in df.columns if df[d].dtype == 'object']\n",
    "num_data = [d for d in df.columns if df[d].dtype != 'object']\n",
    "print(cat_data)\n",
    "print(num_data)"
   ]
  },
  {
   "cell_type": "code",
   "execution_count": null,
   "id": "dfd55f1a",
   "metadata": {},
   "outputs": [],
   "source": [
    "df.nunique()"
   ]
  },
  {
   "cell_type": "code",
   "execution_count": null,
   "id": "e55ed6ed",
   "metadata": {},
   "outputs": [],
   "source": [
    "df[num_data].nunique()"
   ]
  },
  {
   "cell_type": "code",
   "execution_count": null,
   "id": "a3a275e3",
   "metadata": {},
   "outputs": [],
   "source": [
    "df.Ticket.unique()[:50]"
   ]
  },
  {
   "cell_type": "code",
   "execution_count": null,
   "id": "9bb2a818",
   "metadata": {},
   "outputs": [],
   "source": [
    "df1 = df.drop(columns=[\"Name\",\"Ticket\"])\n",
    "df1.shape"
   ]
  },
  {
   "cell_type": "code",
   "execution_count": null,
   "id": "182062ba",
   "metadata": {},
   "outputs": [],
   "source": [
    "print(round((df1.isnull().sum()/df1.shape[0])*100,2))"
   ]
  },
  {
   "cell_type": "code",
   "execution_count": null,
   "id": "cf6c9b11",
   "metadata": {},
   "outputs": [],
   "source": [
    "df2 = df1.drop(columns=[\"Cabin\"])\n",
    "df2.dropna(subset=['Embarked'], axis=0, inplace=True)\n",
    "df2.shape"
   ]
  },
  {
   "cell_type": "code",
   "execution_count": null,
   "id": "f5783b56",
   "metadata": {},
   "outputs": [],
   "source": [
    "df3 = df2.fillna(df2.Age.mean())\n",
    "df3.isnull().sum()"
   ]
  },
  {
   "cell_type": "code",
   "execution_count": null,
   "id": "59f57083",
   "metadata": {},
   "outputs": [],
   "source": [
    "import matplotlib.pyplot as plt\n",
    "plt.boxplot(df3[\"Age\"], vert=False)\n",
    "plt.ylabel(\"Variable\")\n",
    "plt.xlabel(\"Age\")\n",
    "plt.title(\"Box plot\")\n",
    "plt.show()"
   ]
  },
  {
   "cell_type": "code",
   "execution_count": null,
   "id": "1307adf8",
   "metadata": {},
   "outputs": [],
   "source": [
    "mean = df3[\"Age\"].mean()\n",
    "std = df3['Age'].std()\n",
    "print(std)\n",
    "print(mean)"
   ]
  },
  {
   "cell_type": "code",
   "execution_count": null,
   "id": "680287e6",
   "metadata": {},
   "outputs": [],
   "source": [
    "lower_bound = mean - std*2\n",
    "upper_bound = mean + std*2\n",
    "df4 = df3[(df3['Age'] >= lower_bound) & (df3['Age'] <= upper_bound)]\n",
    "print(lower_bound)\n",
    "print(upper_bound)\n"
   ]
  },
  {
   "cell_type": "code",
   "execution_count": null,
   "id": "181dcfa2",
   "metadata": {},
   "outputs": [],
   "source": [
    "import matplotlib.pyplot as plt\n",
    "plt.boxplot(df4[\"Age\"], vert=False)\n",
    "plt.ylabel(\"Variable\")\n",
    "plt.xlabel(\"Age\")\n",
    "plt.title(\"Box plot\")\n",
    "plt.show()"
   ]
  },
  {
   "cell_type": "code",
   "execution_count": null,
   "id": "cdbf4664",
   "metadata": {},
   "outputs": [],
   "source": [
    "x = df3[[\"Pclass\",\"Sex\",\"Age\",\"SibSp\",\"Parch\",\"Fare\",\"Embarked\"]]\n",
    "y = df3[\"Survived\"]\n",
    "print(x)\n",
    "print(y)"
   ]
  },
  {
   "cell_type": "code",
   "execution_count": null,
   "id": "37555328",
   "metadata": {},
   "outputs": [],
   "source": [
    "from sklearn.preprocessing import MinMaxScaler\n",
    "scaler = MinMaxScaler(feature_range=(0,1))\n",
    "num_col = [d for d in x.columns if x[d].dtype != 'object']\n",
    "\n",
    "x1=x\n",
    "\n",
    "x1[num_col] = scaler.fit_transform(x1[num_col])\n",
    "x1.head()"
   ]
  },
  {
   "cell_type": "code",
   "execution_count": null,
   "id": "d3f0bb1b",
   "metadata": {},
   "outputs": [],
   "source": [
    "import numpy as np\n",
    "\n",
    "print(num_col)\n",
    "outlier_percentage = {}\n",
    "\n",
    "for col in num_col:\n",
    "    col_data = df[col]\n",
    "    q1 = np.percentile(col_data, 25)\n",
    "    q3 = np.percentile(col_data, 75)\n",
    "    iqr = q3 - q1\n",
    "    upper = q3 + 1.5 * iqr\n",
    "    lower = q1 - 1.5 * iqr\n",
    "\n",
    "    # Boolean mask for outliers\n",
    "    outliers_mask = (col_data < lower) | (col_data > upper)\n",
    "    outlier_count = outliers_mask.sum()\n",
    "    outlier_percentage[col] = (outlier_count / len(col_data)) * 100\n",
    "\n",
    "    print(f\"Count of outliers in column '{col}': {outlier_count}\")\n",
    "    print(f\"Percentage of outliers in column '{col}': {outlier_percentage[col]:.2f}%\")\n",
    "    print(f\"Lower bound: {lower}\")\n",
    "    print(f\"Upper bound: {upper}\")\n",
    "    print(f\"Outlier data:\\n{col_data[outliers_mask].values}\")\n",
    "    print(\"\\n==============================================\\n\")\n"
   ]
  }
 ],
 "metadata": {
  "kernelspec": {
   "display_name": "venv",
   "language": "python",
   "name": "python3"
  },
  "language_info": {
   "codemirror_mode": {
    "name": "ipython",
    "version": 3
   },
   "file_extension": ".py",
   "mimetype": "text/x-python",
   "name": "python",
   "nbconvert_exporter": "python",
   "pygments_lexer": "ipython3",
   "version": "3.13.1"
  }
 },
 "nbformat": 4,
 "nbformat_minor": 5
}
