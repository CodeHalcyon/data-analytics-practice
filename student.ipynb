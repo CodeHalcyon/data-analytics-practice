{
 "cells": [
  {
   "cell_type": "code",
   "execution_count": null,
   "id": "ae58a0dd",
   "metadata": {},
   "outputs": [],
   "source": [
    "import pandas as pd\n",
    "import numpy as np\n",
    "import matplotlib.pyplot as plt\n",
    "import seaborn as sns"
   ]
  },
  {
   "cell_type": "code",
   "execution_count": null,
   "id": "803775c2",
   "metadata": {},
   "outputs": [],
   "source": [
    "df = pd.read_csv(\"student_depression.csv\")"
   ]
  },
  {
   "cell_type": "code",
   "execution_count": null,
   "id": "afde4f4d",
   "metadata": {},
   "outputs": [],
   "source": [
    "cat_col = [d for d in df.columns if df[d].dtype == 'object' and d!='Profession']\n",
    "num_col = [d for d in df.columns if df[d].dtype != 'object']\n",
    "print(cat_col)\n",
    "print(num_col)"
   ]
  },
  {
   "cell_type": "code",
   "execution_count": null,
   "id": "8588f7ca",
   "metadata": {},
   "outputs": [],
   "source": [
    "for col in cat_col:\n",
    "    plt.figure(figsize=(max(12, len(df[col].unique()) * 0.2),6))\n",
    "    top_n = 10\n",
    "    value_counts = df[col].value_counts().nlargest(top_n)\n",
    "    filtered = df[df[col].isin(value_counts.index)]\n",
    "    \n",
    "    sns.countplot(data=filtered, x=col)\n",
    "    plt.title(f'{col} - Top {top_n} Categories')\n",
    "    plt.xticks(rotation=45, ha='right')\n",
    "    plt.xlabel(col)\n",
    "    plt.ylabel(\"Count\")\n",
    "    plt.tight_layout()\n",
    "    plt.show()"
   ]
  },
  {
   "cell_type": "code",
   "execution_count": null,
   "id": "7ab6efbd",
   "metadata": {},
   "outputs": [],
   "source": [
    "sns.countplot(x='Gender', data=df)"
   ]
  },
  {
   "cell_type": "code",
   "execution_count": null,
   "id": "037b0496",
   "metadata": {},
   "outputs": [],
   "source": [
    "df['Gender'].value_counts().plot.pie(autopct='%1.1f%%')"
   ]
  },
  {
   "cell_type": "code",
   "execution_count": null,
   "id": "9b3aeb73",
   "metadata": {},
   "outputs": [],
   "source": [
    "sns.histplot(df['Age'], kde=True)"
   ]
  },
  {
   "cell_type": "code",
   "execution_count": null,
   "id": "37145ccf",
   "metadata": {},
   "outputs": [],
   "source": [
    "sns.boxplot(x='Gender', y='CGPA', data=df)"
   ]
  },
  {
   "cell_type": "code",
   "execution_count": null,
   "id": "243dff76",
   "metadata": {},
   "outputs": [],
   "source": [
    "sns.violinplot(x='Depression', y='Study Satisfaction', data=df)\n"
   ]
  },
  {
   "cell_type": "code",
   "execution_count": null,
   "id": "b13894e0",
   "metadata": {},
   "outputs": [],
   "source": [
    "pd.crosstab(df['Gender'], df['Depression']).plot(kind='bar', stacked=True)"
   ]
  },
  {
   "cell_type": "code",
   "execution_count": null,
   "id": "4f7dc184",
   "metadata": {},
   "outputs": [],
   "source": [
    "plt.figure(figsize=(10, 5))\n",
    "sns.histplot(data=df, x='Age', hue='Depression', kde=True, element='step', stat='count')\n",
    "plt.title('Age Distribution by Depression Status')\n",
    "plt.xlabel('Age')\n",
    "plt.ylabel('Count')\n",
    "plt.show()"
   ]
  },
  {
   "cell_type": "code",
   "execution_count": 17,
   "id": "8ffbfd50",
   "metadata": {},
   "outputs": [
    {
     "name": "stdout",
     "output_type": "stream",
     "text": [
      "['id', 'Age', 'Academic Pressure', 'Work Pressure', 'CGPA', 'Study Satisfaction', 'Job Satisfaction', 'Work/Study Hours', 'Depression']\n",
      "Count of outliers in column 'id': 0\n",
      "Percentage of outliers in column 'id': 0.00%\n",
      "Lower bound: -71129.5\n",
      "Upper bound: 211986.5\n",
      "Outlier data:\n",
      "[]\n",
      "\n",
      "==============================================\n",
      "\n",
      "Count of outliers in column 'Age': 12\n",
      "Percentage of outliers in column 'Age': 0.04%\n",
      "Lower bound: 7.5\n",
      "Upper bound: 43.5\n",
      "Outlier data:\n",
      "[58. 49. 51. 44. 46. 59. 54. 48. 56. 46. 48. 48.]\n",
      "\n",
      "==============================================\n",
      "\n",
      "Count of outliers in column 'Academic Pressure': 0\n",
      "Percentage of outliers in column 'Academic Pressure': 0.00%\n",
      "Lower bound: -1.0\n",
      "Upper bound: 7.0\n",
      "Outlier data:\n",
      "[]\n",
      "\n",
      "==============================================\n",
      "\n",
      "Count of outliers in column 'Work Pressure': 3\n",
      "Percentage of outliers in column 'Work Pressure': 0.01%\n",
      "Lower bound: 0.0\n",
      "Upper bound: 0.0\n",
      "Outlier data:\n",
      "[5. 2. 5.]\n",
      "\n",
      "==============================================\n",
      "\n",
      "Count of outliers in column 'CGPA': 9\n",
      "Percentage of outliers in column 'CGPA': 0.03%\n",
      "Lower bound: 2.345\n",
      "Upper bound: 12.865\n",
      "Outlier data:\n",
      "[0. 0. 0. 0. 0. 0. 0. 0. 0.]\n",
      "\n",
      "==============================================\n",
      "\n",
      "Count of outliers in column 'Study Satisfaction': 0\n",
      "Percentage of outliers in column 'Study Satisfaction': 0.00%\n",
      "Lower bound: -1.0\n",
      "Upper bound: 7.0\n",
      "Outlier data:\n",
      "[]\n",
      "\n",
      "==============================================\n",
      "\n",
      "Count of outliers in column 'Job Satisfaction': 8\n",
      "Percentage of outliers in column 'Job Satisfaction': 0.03%\n",
      "Lower bound: 0.0\n",
      "Upper bound: 0.0\n",
      "Outlier data:\n",
      "[3. 4. 2. 1. 1. 2. 4. 2.]\n",
      "\n",
      "==============================================\n",
      "\n",
      "Count of outliers in column 'Work/Study Hours': 0\n",
      "Percentage of outliers in column 'Work/Study Hours': 0.00%\n",
      "Lower bound: -5.0\n",
      "Upper bound: 19.0\n",
      "Outlier data:\n",
      "[]\n",
      "\n",
      "==============================================\n",
      "\n",
      "Count of outliers in column 'Depression': 0\n",
      "Percentage of outliers in column 'Depression': 0.00%\n",
      "Lower bound: -1.5\n",
      "Upper bound: 2.5\n",
      "Outlier data:\n",
      "[]\n",
      "\n",
      "==============================================\n",
      "\n"
     ]
    }
   ],
   "source": [
    "import numpy as np\n",
    "\n",
    "print(num_col)\n",
    "outlier_percentage = {}\n",
    "\n",
    "for col in num_col:\n",
    "    col_data = df[col]\n",
    "    q1 = np.percentile(col_data, 25)\n",
    "    q3 = np.percentile(col_data, 75)\n",
    "    iqr = q3 - q1\n",
    "    upper = q3 + 1.5 * iqr\n",
    "    lower = q1 - 1.5 * iqr\n",
    "\n",
    "    # Boolean mask for outliers\n",
    "    outliers_mask = (col_data < lower) | (col_data > upper)\n",
    "    outlier_count = outliers_mask.sum()\n",
    "    outlier_percentage[col] = (outlier_count / len(col_data)) * 100\n",
    "\n",
    "    print(f\"Count of outliers in column '{col}': {outlier_count}\")\n",
    "    print(f\"Percentage of outliers in column '{col}': {outlier_percentage[col]:.2f}%\")\n",
    "    print(f\"Lower bound: {lower}\")\n",
    "    print(f\"Upper bound: {upper}\")\n",
    "    print(f\"Outlier data:\\n{col_data[outliers_mask].values}\")\n",
    "    print(\"\\n==============================================\\n\")\n"
   ]
  }
 ],
 "metadata": {
  "kernelspec": {
   "display_name": "venv",
   "language": "python",
   "name": "python3"
  },
  "language_info": {
   "codemirror_mode": {
    "name": "ipython",
    "version": 3
   },
   "file_extension": ".py",
   "mimetype": "text/x-python",
   "name": "python",
   "nbconvert_exporter": "python",
   "pygments_lexer": "ipython3",
   "version": "3.13.1"
  }
 },
 "nbformat": 4,
 "nbformat_minor": 5
}
