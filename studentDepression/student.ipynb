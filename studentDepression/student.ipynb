{
 "cells": [
  {
   "cell_type": "code",
   "execution_count": 2,
   "id": "ae58a0dd",
   "metadata": {},
   "outputs": [],
   "source": [
    "import pandas as pd\n",
    "import numpy as np\n",
    "import matplotlib.pyplot as plt\n",
    "import seaborn as sns"
   ]
  },
  {
   "cell_type": "code",
   "execution_count": null,
   "id": "803775c2",
   "metadata": {},
   "outputs": [
    {
     "data": {
      "text/plain": [
       "0        33.0\n",
       "1        24.0\n",
       "2        31.0\n",
       "3        28.0\n",
       "4        25.0\n",
       "         ... \n",
       "27896    27.0\n",
       "27897    27.0\n",
       "27898    31.0\n",
       "27899    18.0\n",
       "27900    27.0\n",
       "Name: Age, Length: 27901, dtype: float64"
      ]
     },
     "execution_count": 8,
     "metadata": {},
     "output_type": "execute_result"
    }
   ],
   "source": [
    "df = pd.read_csv(\"student_depression.csv\")"
   ]
  },
  {
   "cell_type": "code",
   "execution_count": 4,
   "id": "afde4f4d",
   "metadata": {},
   "outputs": [
    {
     "name": "stdout",
     "output_type": "stream",
     "text": [
      "['Gender', 'City', 'Sleep Duration', 'Dietary Habits', 'Degree', 'Have you ever had suicidal thoughts ?', 'Financial Stress', 'Family History of Mental Illness']\n",
      "['id', 'Age', 'Academic Pressure', 'Work Pressure', 'CGPA', 'Study Satisfaction', 'Job Satisfaction', 'Work/Study Hours', 'Depression']\n"
     ]
    }
   ],
   "source": [
    "cat_col = [d for d in df.columns if df[d].dtype == 'object' and d!='Profession']\n",
    "num_col = [d for d in df.columns if df[d].dtype != 'object']\n",
    "print(cat_col)\n",
    "print(num_col)"
   ]
  },
  {
   "cell_type": "markdown",
   "id": "fdafa319",
   "metadata": {},
   "source": [
    "HANDLING CATEGORICAL DATA"
   ]
  },
  {
   "cell_type": "code",
   "execution_count": 21,
   "id": "0b102689",
   "metadata": {},
   "outputs": [
    {
     "name": "stdout",
     "output_type": "stream",
     "text": [
      "Column is:  id\n",
      "Max value in id is 140699,\n",
      "Min value is 2\n",
      "\n",
      "Column is:  Age\n",
      "Max value in Age is 59.0,\n",
      "Min value is 18.0\n",
      "\n",
      "Column is:  Academic Pressure\n",
      "Max value in Academic Pressure is 5.0,\n",
      "Min value is 0.0\n",
      "\n",
      "Column is:  Work Pressure\n",
      "Max value in Work Pressure is 5.0,\n",
      "Min value is 0.0\n",
      "\n",
      "Column is:  CGPA\n",
      "Max value in CGPA is 10.0,\n",
      "Min value is 0.0\n",
      "\n",
      "Column is:  Study Satisfaction\n",
      "Max value in Study Satisfaction is 5.0,\n",
      "Min value is 0.0\n",
      "\n",
      "Column is:  Job Satisfaction\n",
      "Max value in Job Satisfaction is 4.0,\n",
      "Min value is 0.0\n",
      "\n",
      "Column is:  Work/Study Hours\n",
      "Max value in Work/Study Hours is 12.0,\n",
      "Min value is 0.0\n",
      "\n",
      "Column is:  Depression\n",
      "Max value in Depression is 1,\n",
      "Min value is 0\n",
      "\n"
     ]
    }
   ],
   "source": [
    "for col in num_col:\n",
    "    print(\"Column is: \", col)\n",
    "    colum = df[col]\n",
    "    print(f'Max value in {col} is {max(colum)},\\nMin value is {min(colum)}')\n",
    "    print()"
   ]
  },
  {
   "cell_type": "code",
   "execution_count": null,
   "id": "8588f7ca",
   "metadata": {},
   "outputs": [],
   "source": [
    "for col in cat_col:\n",
    "    plt.figure(figsize=(max(12, len(df[col].unique()) * 0.2),6))\n",
    "    top_n = 10\n",
    "    value_counts = df[col].value_counts().nlargest(top_n)\n",
    "    filtered = df[df[col].isin(value_counts.index)]\n",
    "    \n",
    "    sns.countplot(data=filtered, x=col)\n",
    "    plt.title(f'{col} - Top {top_n} Categories')\n",
    "    plt.xticks(rotation=45, ha='right')\n",
    "    plt.xlabel(col)\n",
    "    plt.ylabel(\"Count\")\n",
    "    plt.tight_layout()\n",
    "    plt.show()"
   ]
  },
  {
   "cell_type": "code",
   "execution_count": null,
   "id": "7ab6efbd",
   "metadata": {},
   "outputs": [],
   "source": [
    "sns.countplot(x='Gender', data=df)"
   ]
  },
  {
   "cell_type": "code",
   "execution_count": null,
   "id": "037b0496",
   "metadata": {},
   "outputs": [],
   "source": [
    "df['Gender'].value_counts().plot.pie(autopct='%1.1f%%')"
   ]
  },
  {
   "cell_type": "code",
   "execution_count": null,
   "id": "9b3aeb73",
   "metadata": {},
   "outputs": [],
   "source": [
    "sns.histplot(df['Age'], kde=True)"
   ]
  },
  {
   "cell_type": "code",
   "execution_count": null,
   "id": "37145ccf",
   "metadata": {},
   "outputs": [],
   "source": [
    "sns.boxplot(x='Gender', y='CGPA', data=df)"
   ]
  },
  {
   "cell_type": "code",
   "execution_count": null,
   "id": "243dff76",
   "metadata": {},
   "outputs": [],
   "source": [
    "sns.violinplot(x='Depression', y='Study Satisfaction', data=df)\n"
   ]
  },
  {
   "cell_type": "code",
   "execution_count": null,
   "id": "b13894e0",
   "metadata": {},
   "outputs": [],
   "source": [
    "pd.crosstab(df['Gender'], df['Depression']).plot(kind='bar', stacked=True)"
   ]
  },
  {
   "cell_type": "code",
   "execution_count": null,
   "id": "4f7dc184",
   "metadata": {},
   "outputs": [],
   "source": [
    "plt.figure(figsize=(10, 5))\n",
    "sns.histplot(data=df, x='Age', hue='Depression', kde=True, element='step', stat='count')\n",
    "plt.title('Age Distribution by Depression Status')\n",
    "plt.xlabel('Age')\n",
    "plt.ylabel('Count')\n",
    "plt.show()"
   ]
  },
  {
   "cell_type": "code",
   "execution_count": null,
   "id": "8ffbfd50",
   "metadata": {},
   "outputs": [],
   "source": [
    "import numpy as np\n",
    "\n",
    "print(num_col)\n",
    "outlier_percentage = {}\n",
    "\n",
    "for col in num_col:\n",
    "    col_data = df[col]\n",
    "    q1 = np.percentile(col_data, 25)\n",
    "    q3 = np.percentile(col_data, 75)\n",
    "    iqr = q3 - q1\n",
    "    upper = q3 + 1.5 * iqr\n",
    "    lower = q1 - 1.5 * iqr\n",
    "\n",
    "    # Boolean mask for outliers\n",
    "    outliers_mask = (col_data < lower) | (col_data > upper)\n",
    "    outlier_count = outliers_mask.sum()\n",
    "    outlier_percentage[col] = (outlier_count / len(col_data)) * 100\n",
    "\n",
    "    print(f\"Count of outliers in column '{col}': {outlier_count}\")\n",
    "    print(f\"Percentage of outliers in column '{col}': {outlier_percentage[col]:.2f}%\")\n",
    "    print(f\"Lower bound: {lower}\")\n",
    "    print(f\"Upper bound: {upper}\")\n",
    "    print(f\"Outlier data:\\n{col_data[outliers_mask].values}\")\n",
    "    print(\"\\n==============================================\\n\")\n"
   ]
  }
 ],
 "metadata": {
  "kernelspec": {
   "display_name": "venv",
   "language": "python",
   "name": "python3"
  },
  "language_info": {
   "codemirror_mode": {
    "name": "ipython",
    "version": 3
   },
   "file_extension": ".py",
   "mimetype": "text/x-python",
   "name": "python",
   "nbconvert_exporter": "python",
   "pygments_lexer": "ipython3",
   "version": "3.13.1"
  }
 },
 "nbformat": 4,
 "nbformat_minor": 5
}
